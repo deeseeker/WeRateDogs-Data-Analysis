{
 "cells": [
  {
   "cell_type": "markdown",
   "metadata": {},
   "source": [
    "## Wrangle Report\n"
   ]
  },
  {
   "cell_type": "markdown",
   "metadata": {},
   "source": [
    "### Project overview"
   ]
  },
  {
   "cell_type": "markdown",
   "metadata": {},
   "source": [
    "This project's objective is to analyze the WeRateDogs user's (@dog rates) tweet archive. Data must be gathered, assessed, and cleaned in order to accomplish that. The various wrangle efforts that have been attempted to accomplish this goal are highlighted in this document.\n",
    "\n",
    "As previously stated, the steps involved in data wrangling are:\n",
    "\n",
    "* Gathering\n",
    "* Assessing\n",
    "* Cleaning"
   ]
  },
  {
   "cell_type": "markdown",
   "metadata": {},
   "source": [
    "### Gathering "
   ]
  },
  {
   "cell_type": "markdown",
   "metadata": {},
   "source": [
    "During this stage, I manually downloaded and uploaded the \"twitter archive enhanced.csv\" file to the udacity workspace. I then utilized the Python Requests package to programmatically obtain the \"image predictions.tsv\" file. Then, using Tweepy, I collected more information from the Twitter API, such as retweet numbers and favorite counts, and saved it in \"text json.txt.\"\n",
    "\n",
    "All the data gathered were read into pandas as follows:\n",
    "* `twitter_arch`: from \"twitter archive enhanced.csv\".\n",
    "\n",
    "* `image_df`: from \"image predictions.tsv\".\n",
    "* `df_add`: from \"text json.txt."
   ]
  },
  {
   "cell_type": "markdown",
   "metadata": {},
   "source": [
    "### Assessing"
   ]
  },
  {
   "cell_type": "markdown",
   "metadata": {},
   "source": [
    "Different quality and tidiness issues were found after the data was collected when it was reviewed visually and programmatically.\n",
    "The following was among the quality issues and tidiness issues:\n",
    "\n",
    ">Completeness: There are missing columns such as in_reply_to_status_id, in_reply_to_user_id, retweeted_status_id, retweeted_status_user_id, retweeted_status_timestamp, jpg_url,doggo, floof, pupper, and puppo. These were all observed and noted.\n",
    "\n",
    ">Accuracy: In the twitter archive table, some columns had arbitrary and unneeded values such as a, the, quite, an, and others, and floofer instead of floof.\n",
    "\n",
    ">Invalid: It has also been noted that some columns don't follow the correct data format\n",
    "\n",
    "> Tidiness: The tables didn't follow the tidy data format.\n",
    "\n"
   ]
  },
  {
   "cell_type": "markdown",
   "metadata": {},
   "source": [
    "### Cleaning"
   ]
  },
  {
   "cell_type": "markdown",
   "metadata": {},
   "source": [
    "* Since it's best practice to avoid performing cleaning tasks on the original datasets, a copy of the three data points collected at this stage was made. \n",
    "\n",
    "During the cleaning:\n",
    "* Firstly, I addressed certain completeness issues first on columns that have more than 90 percent of its values missing(in_reply_to_status_id, in_reply_to_user_id, retweeted_status_id, retweeted_status_user_id, retweeted_status_timestamp). I decided to drop this columns mainly due to two reasons; more than half of its values were missing and it is not relevant to our analysis. \n",
    "\n"
   ]
  },
  {
   "cell_type": "markdown",
   "metadata": {},
   "source": [
    "* Secondly, I tackled the accuracy issue in floofer before addressing tidiness issues after completeness,because resolving this issue appears more rational and simple even though it's generally best practice to address  in this case,\n",
    "\n"
   ]
  },
  {
   "cell_type": "markdown",
   "metadata": {},
   "source": [
    "* Finally, I addressed other issues along with the last tidiness issue."
   ]
  },
  {
   "cell_type": "markdown",
   "metadata": {},
   "source": [
    "### Storing Data\n"
   ]
  },
  {
   "cell_type": "markdown",
   "metadata": {},
   "source": [
    "After performing all these cleanings, I then saved the cleaned data in to a master file saved to \"twitter_archive_master.csv\""
   ]
  }
 ],
 "metadata": {
  "kernelspec": {
   "display_name": "Python 3",
   "language": "python",
   "name": "python3"
  },
  "language_info": {
   "codemirror_mode": {
    "name": "ipython",
    "version": 3
   },
   "file_extension": ".py",
   "mimetype": "text/x-python",
   "name": "python",
   "nbconvert_exporter": "python",
   "pygments_lexer": "ipython3",
   "version": "3.6.3"
  }
 },
 "nbformat": 4,
 "nbformat_minor": 2
}
