{
 "cells": [
  {
   "cell_type": "code",
   "execution_count": 1,
   "metadata": {},
   "outputs": [],
   "source": [
    "consumer_key = 'ghUwPqOhbycYoT0xrf9lJsJa2'\n",
    "consumer_secret = 'GuvrE8EYlDaSInyxflDhsMz7nLoHQ65Ao3ixUere5FB4D1avkb'\n",
    "access_token = '1519415089-OVj5CkLx7sQycksG9fdDbaLRPo6zJhDQ5cfcKxi'\n",
    "access_secret ='K8wtSHfnQaqKB98Rg02nR9JES33gp3atxwOc5vYbdwp6j'"
   ]
  },
  {
   "cell_type": "code",
   "execution_count": null,
   "metadata": {},
   "outputs": [],
   "source": []
  }
 ],
 "metadata": {
  "kernelspec": {
   "display_name": "Python 3",
   "language": "python",
   "name": "python3"
  },
  "language_info": {
   "codemirror_mode": {
    "name": "ipython",
    "version": 3
   },
   "file_extension": ".py",
   "mimetype": "text/x-python",
   "name": "python",
   "nbconvert_exporter": "python",
   "pygments_lexer": "ipython3",
   "version": "3.6.3"
  }
 },
 "nbformat": 4,
 "nbformat_minor": 2
}
